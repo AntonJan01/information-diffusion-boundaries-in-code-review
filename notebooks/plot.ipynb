{
 "cells": [
  {
   "cell_type": "code",
   "execution_count": 6,
   "metadata": {},
   "outputs": [],
   "source": [
    "import sys\n",
    "from pathlib import Path\n",
    "from datetime import timedelta\n",
    "\n",
    "import pandas as pd\n",
    "from tqdm.auto import tqdm\n",
    "import matplotlib.pyplot as plt\n",
    "from matplotlib.colorbar import cm\n",
    "import numpy as np\n",
    "from tqdm.notebook import tqdm\n",
    "\n",
    "sys.path.append(str(Path('../').resolve()))\n",
    "\n"
   ]
  },
  {
   "cell_type": "code",
   "execution_count": 3,
   "metadata": {},
   "outputs": [],
   "source": [
    "def compute(df):\n",
    "    cumulative_distribution_over_time = []\n",
    "    total = len(df.index.get_level_values(0).categories)\n",
    "    for source, group in tqdm(df.fastest.groupby(level=0), total=total):\n",
    "        n_unique = group.reset_index(level=1).resample(pd.Timedelta(days=1), on='fastest', offset=-group.min()).target.nunique()\n",
    "        cumulative_distribution_over_time += [n_unique.rename(source)]\n",
    "    index = pd.timedelta_range(start=timedelta(weeks=0), end=timedelta(weeks=4), freq='D')\n",
    "    return pd.concat(cumulative_distribution_over_time, axis=1).fillna(0).cumsum().reindex(index).ffill().astype(int)"
   ]
  },
  {
   "cell_type": "code",
   "execution_count": null,
   "metadata": {},
   "outputs": [],
   "source": [
    "microsoft = pd.read_pickle('../data/minimal_paths/microsoft.pickle')"
   ]
  },
  {
   "cell_type": "code",
   "execution_count": 4,
   "metadata": {},
   "outputs": [
    {
     "ename": "NameError",
     "evalue": "name 'trivago' is not defined",
     "output_type": "error",
     "traceback": [
      "\u001b[0;31m---------------------------------------------------------------------------\u001b[0m",
      "\u001b[0;31mNameError\u001b[0m                                 Traceback (most recent call last)",
      "Cell \u001b[0;32mIn[4], line 1\u001b[0m\n\u001b[0;32m----> 1\u001b[0m cumulative_distributions_over_time \u001b[39m=\u001b[39m {\u001b[39m'\u001b[39m\u001b[39mTrivago\u001b[39m\u001b[39m'\u001b[39m: compute(trivago), \u001b[39m'\u001b[39m\u001b[39mSpotify\u001b[39m\u001b[39m'\u001b[39m: compute(spotify), \u001b[39m'\u001b[39m\u001b[39mMicrosoft\u001b[39m\u001b[39m'\u001b[39m: compute(microsoft)}\n",
      "\u001b[0;31mNameError\u001b[0m: name 'trivago' is not defined"
     ]
    }
   ],
   "source": [
    "cumulative_distributions_over_time = {'Microsoft': compute(microsoft)}"
   ]
  },
  {
   "cell_type": "code",
   "execution_count": 5,
   "metadata": {},
   "outputs": [
    {
     "ename": "NameError",
     "evalue": "name 'plt' is not defined",
     "output_type": "error",
     "traceback": [
      "\u001b[0;31m---------------------------------------------------------------------------\u001b[0m",
      "\u001b[0;31mNameError\u001b[0m                                 Traceback (most recent call last)",
      "Cell \u001b[0;32mIn[5], line 1\u001b[0m\n\u001b[0;32m----> 1\u001b[0m fig, axes \u001b[39m=\u001b[39m plt\u001b[39m.\u001b[39msubplots(\u001b[39m3\u001b[39m, \u001b[39m1\u001b[39m, figsize\u001b[39m=\u001b[39m(\u001b[39m4.8\u001b[39m,\u001b[39m1.5\u001b[39m\u001b[39m*\u001b[39m\u001b[39m4.8\u001b[39m), constrained_layout\u001b[39m=\u001b[39m\u001b[39mTrue\u001b[39;00m, sharex\u001b[39m=\u001b[39m\u001b[39mTrue\u001b[39;00m, sharey\u001b[39m=\u001b[39m\u001b[39mFalse\u001b[39;00m)\n\u001b[1;32m      3\u001b[0m \u001b[39mfor\u001b[39;00m i, (name, ecdf) \u001b[39min\u001b[39;00m \u001b[39menumerate\u001b[39m(cumulative_distributions_over_time\u001b[39m.\u001b[39mitems()):\n\u001b[1;32m      4\u001b[0m     ax \u001b[39m=\u001b[39m axes[i]\n",
      "\u001b[0;31mNameError\u001b[0m: name 'plt' is not defined"
     ]
    }
   ],
   "source": [
    "fig, axes = plt.subplots(3, 1, figsize=(4.8,1.5*4.8), constrained_layout=True, sharex=True, sharey=False)\n",
    "\n",
    "for i, (name, ecdf) in enumerate(cumulative_distributions_over_time.items()):\n",
    "    ax = axes[i]\n",
    "    #x_labels = ecdf.index\n",
    "    df = ecdf.reset_index(drop=True)\n",
    "    x = df.index\n",
    "    \n",
    "    norm = cm.colors.Normalize(vmin=0.0, vmax=50)\n",
    "    q = np.column_stack((np.linspace(0.99, 0.51, 49), np.linspace(0.01, 0.49, 49)))\n",
    "    ax.fill_between(x=x, y1=0, y2=1, color=cm.plasma(norm(0)), edgecolor=None)\n",
    "    for c, (l,u) in enumerate(q):\n",
    "        y1 = df.quantile(l, axis=1).rename(l)\n",
    "        y2 = df.quantile(u, axis=1).rename(u)\n",
    "        color = cm.plasma(norm(c))\n",
    "        for_cbar = ax.fill_between(x=x, y1=y1, y2=y2, color=color, edgecolor=None)\n",
    "    \n",
    "\n",
    "    df.median(axis=1).plot(ax=ax, color='white')\n",
    "\n",
    "    ax.set_xlim(0, df.index.max())\n",
    "    ax.set_ylim((0, df.shape[1]))\n",
    "    ax.set_facecolor(cm.jet(norm(0)))\n",
    "\n",
    "    ax.set_ylabel('Reachable participants')\n",
    "    \n",
    "    ax.set_xticks([0, 7, 14, 21, 28])\n",
    "    ax.set_xticklabels([0, 7, 14, 21, 28])\n",
    "    ax.minorticks_off()\n",
    "    ax.set_title(name)\n",
    "\n",
    "    ax_m = ax.twinx()   # mirror the x-axis\n",
    "    ax_m.set_yticks([0, 0.2, 0.4, 0.6, 0.8, 1.0]);\n",
    "    ax_m.set_ylabel('Network coverage')\n",
    "    ax.set_xlabel('Time (days)')\n",
    "\n",
    "    ax.yaxis.set_label_coords(-0.15, 0.5)\n",
    "    ax.axhline(df.shape[1]/2)\n"
   ]
  },
  {
   "cell_type": "code",
   "execution_count": null,
   "metadata": {},
   "outputs": [],
   "source": []
  }
 ],
 "metadata": {
  "kernelspec": {
   "display_name": "Python 3",
   "language": "python",
   "name": "python3"
  },
  "language_info": {
   "codemirror_mode": {
    "name": "ipython",
    "version": 3
   },
   "file_extension": ".py",
   "mimetype": "text/x-python",
   "name": "python",
   "nbconvert_exporter": "python",
   "pygments_lexer": "ipython3",
   "version": "3.11.0"
  },
  "orig_nbformat": 4
 },
 "nbformat": 4,
 "nbformat_minor": 2
}
